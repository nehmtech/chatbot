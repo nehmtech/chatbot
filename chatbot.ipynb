{
 "cells": [
  {
   "cell_type": "code",
   "execution_count": null,
   "metadata": {},
   "outputs": [],
   "source": [
    "def greet_user():\n",
    "    print(\"Hello! I'm your friendly chatbot. Welcome to our site!\")\n",
    "    print(\"My name is ChatBot. What should I call you?\")\n",
    "\n",
    "def ask_for_name():\n",
    "    response = input(\"Can I know your name? \")\n",
    "    if response.lower() in [\"yes\", \"yeah\", \"sure\", \"of course\"]:\n",
    "        name = input(\"What a nice name! What's your favorite fruit? \")\n",
    "        print(f\"I also love {name}, what a coincidence! Haha, just a joke! Though it's kinda true!\")\n",
    "        return name\n",
    "    else:\n",
    "        print(\"Sure, according to the Global Data Protection Act, we value your privacy. Thanks for visiting our site.\")\n",
    "        return None\n",
    "\n",
    "def ask_for_summary(name, fruit_name):\n",
    "    response = input(\"Do you want me to give you a summary about yourself? \")\n",
    "    if response.lower() in [\"yes\", \"yeah\", \"sure\", \"of course\"]:\n",
    "        print(f\"Nice to hear that!\\nYour name is {name}, and you like {fruit_name} as your favorite fruit. And I was surprised your choice is like mine, hahaha. Anyways, nice to meet you!\")\n",
    "\n",
    "def main():\n",
    "    greet_user()\n",
    "    user_name = ask_for_name()\n",
    "\n",
    "    if user_name:\n",
    "        favorite_fruit = input(\"What's your favorite fruit? \")\n",
    "        ask_for_summary(user_name, favorite_fruit)\n",
    "\n",
    "if __name__ == \"__main__\":\n",
    "    main()\n"
   ]
  }
 ],
 "metadata": {
  "language_info": {
   "name": "python"
  }
 },
 "nbformat": 4,
 "nbformat_minor": 2
}
